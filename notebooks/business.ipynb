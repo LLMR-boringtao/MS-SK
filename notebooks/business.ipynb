{
 "cells": [
  {
   "cell_type": "code",
   "execution_count": 1,
   "metadata": {},
   "outputs": [
    {
     "data": {
      "text/plain": [
       "<semantic_kernel.kernel.Kernel at 0x7fb1b51aecb0>"
      ]
     },
     "execution_count": 1,
     "metadata": {},
     "output_type": "execute_result"
    }
   ],
   "source": [
    "import semantic_kernel as sk\n",
    "from semantic_kernel.connectors.ai.open_ai import OpenAIChatCompletion, AzureChatCompletion\n",
    "import os\n",
    "\n",
    "api_key=os.getenv(\"OPENAI_API_KEY\")\n",
    "\n",
    "kernel = sk.Kernel()\n",
    "kernel.add_text_completion_service(\"openai\", OpenAIChatCompletion(\"gpt-3.5-turbo-0301\", api_key))"
   ]
  },
  {
   "cell_type": "code",
   "execution_count": 3,
   "metadata": {},
   "outputs": [
    {
     "name": "stdout",
     "output_type": "stream",
     "text": [
      "Suggestions for how to gain cost efficiencies\n",
      "| Title | Strength | Weakness | Description |\n",
      "| ----- | -------- | -------- | ----------- |\n",
      "| Cross-training staff | Strong local reputation, Owner trained in Sicily | High staff turnover | By cross-training staff in different roles, the business can reduce the need for hiring new staff and save on recruitment and training costs. It also increases flexibility in scheduling and reduces the impact of staff turnover. |\n",
      "| Menu optimization | Unique garlic pizza recipe that wins top awards | Absence of popular calzones from menu | By analyzing sales data and customer feedback, the business can identify popular menu items and remove underperforming ones. This can reduce food waste and inventory costs, while also improving customer satisfaction. |\n",
      "| Online reputation management | Strong local reputation, Prime location on university campus | Negative reviews from younger demographic for lack of hip ingredients | By actively monitoring and responding to online reviews, the business can address negative feedback and improve its online reputation. This can attract new customers and increase revenue, while also providing valuable insights for improving the business. |\n"
     ]
    }
   ],
   "source": [
    "strengths = [ \"Unique garlic pizza recipe that wins top awards\",\"Owner trained in Sicily at some of the best pizzerias\",\"Strong local reputation\",\"Prime location on university campus\" ]\n",
    "weaknesses = [ \"High staff turnover\",\"Floods in the area damaged the seating areas that are in need of repair\",\"Absence of popular calzones from menu\",\"Negative reviews from younger demographic for lack of hip ingredients\" ]\n",
    "\n",
    "pluginsDirectory = \"plugins-sk\"\n",
    "\n",
    "pluginBT = kernel.import_semantic_skill_from_directory(pluginsDirectory, \"BusinessThinking\");\n",
    "\n",
    "my_context = kernel.create_new_context()\n",
    "my_context['input'] = 'makes pizzas'\n",
    "my_context['strengths'] = \", \".join(strengths)\n",
    "my_context['weaknesses'] = \", \".join(weaknesses)\n",
    "\n",
    "costefficiency_result = await kernel.run_async(pluginBT[\"SeekCostEfficiency\"], input_context=my_context)\n",
    "costefficiency_str = str(\"Suggestions for how to gain cost efficiencies\\n\" + str(costefficiency_result))\n",
    "print(costefficiency_str)"
   ]
  },
  {
   "cell_type": "code",
   "execution_count": 4,
   "metadata": {},
   "outputs": [
    {
     "name": "stdout",
     "output_type": "stream",
     "text": [
      "Business strategy thinking based on SWOT analysis\n",
      "### Building on strengths can immediately improve the business\n",
      "\n",
      "| Title | Strength | Weakness | Description |\n",
      "| ----- | -------- | -------- | ----------- |\n",
      "| Expand Menu | Unique garlic pizza recipe that wins top awards | Absence of popular calzones from menu | Adding popular calzones to the menu can attract a wider range of customers and increase revenue. |\n",
      "| Employee Retention Program | Owner trained in Sicily at some of the best pizzerias, Strong local reputation | High staff turnover | Implementing an employee retention program can help retain valuable employees and reduce the cost of constantly hiring and training new staff. |\n",
      "| Renovate Seating Area | Prime location on university campus | Floods in the area damaged the seating areas that are in need of repair | Renovating the seating area can improve the customer experience and attract more customers, especially during peak hours. |\n",
      "\n",
      "### Taking advantage of opportunities whenever possible\n",
      "\n",
      "| Title | Opportunity | Description |\n",
      "| ----- | -------- | ----------- |\n",
      "| Catering Services | Untapped catering potential | Offering catering services can provide a new revenue stream and expand the customer base beyond the university campus. |\n",
      "| Online Ordering System | Unexplored online presence and order capabilities | Implementing an online ordering system can make it easier for customers to order and increase sales, especially among the tech-savvy local startup community. |\n",
      "| Participate in Food Fair | Upcoming annual food fair | Participating in the food fair can increase brand awareness and attract new customers, especially those who are interested in trying new and unique food offerings. |\n",
      "\n",
      "### Building resilience to threats is always a good idea\n",
      "\n",
      "| Title | Threat | Description |\n",
      "| ----- | -------- | ----------- |\n",
      "| Focus on Quality | Competition from cheaper pizza businesses nearby | Emphasizing the quality of the unique garlic pizza recipe and the owner's training in Sicily can differentiate the business from cheaper competitors. |\n",
      "| Diversify Marketing Channels | There's nearby street construction that will impact foot traffic | Diversifying marketing channels, such as social media and email marketing, can help reach customers who may not be able to visit the physical location due to construction. |\n",
      "| Explore Alternative Cheese Suppliers | Rising cost of cheese will increase the cost of pizzas | Exploring alternative cheese suppliers can help mitigate the impact of rising cheese costs and maintain profitability. |\n"
     ]
    }
   ],
   "source": [
    "opportunities = [ \"Untapped catering potential\",\"Growing local tech startup community\",\"Unexplored online presence and order capabilities\",\"Upcoming annual food fair\" ]\n",
    "threats = [ \"Competition from cheaper pizza businesses nearby\",\"There's nearby street construction that will impact foot traffic\",\"Rising cost of cheese will increase the cost of pizzas\",\"No immediate local regulatory changes but it's election season\" ]\n",
    "\n",
    "pluginBT = kernel.import_semantic_skill_from_directory(pluginsDirectory, \"BusinessThinking\");\n",
    "\n",
    "my_context = kernel.create_new_context()\n",
    "my_context['input'] = 'makes pizzas'\n",
    "my_context['strengths'] = \", \".join(strengths)\n",
    "my_context['weaknesses'] = \", \".join(weaknesses)\n",
    "my_context['opportunities'] = \", \".join(opportunities)\n",
    "my_context['threats'] = \", \".join(threats)\n",
    "\n",
    "bizstrat_result = await kernel.run_async(pluginBT[\"BasicStrategies\"],input_context=my_context)\n",
    "bizstrat_str = \"Business strategy thinking based on SWOT analysis\\n\"+str(bizstrat_result)\n",
    "print(bizstrat_str)"
   ]
  }
 ],
 "metadata": {
  "kernelspec": {
   "display_name": "sk",
   "language": "python",
   "name": "python3"
  },
  "language_info": {
   "codemirror_mode": {
    "name": "ipython",
    "version": 3
   },
   "file_extension": ".py",
   "mimetype": "text/x-python",
   "name": "python",
   "nbconvert_exporter": "python",
   "pygments_lexer": "ipython3",
   "version": "3.10.13"
  }
 },
 "nbformat": 4,
 "nbformat_minor": 2
}
