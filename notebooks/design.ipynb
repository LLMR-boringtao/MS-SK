{
 "cells": [
  {
   "cell_type": "code",
   "execution_count": 1,
   "metadata": {},
   "outputs": [
    {
     "data": {
      "text/plain": [
       "<semantic_kernel.kernel.Kernel at 0x7fafe4626230>"
      ]
     },
     "execution_count": 1,
     "metadata": {},
     "output_type": "execute_result"
    }
   ],
   "source": [
    "import semantic_kernel as sk\n",
    "from semantic_kernel.connectors.ai.open_ai import OpenAIChatCompletion, AzureChatCompletion\n",
    "import os\n",
    "\n",
    "api_key=os.getenv(\"OPENAI_API_KEY\")\n",
    "\n",
    "kernel = sk.Kernel()\n",
    "kernel.add_text_completion_service(\"openai\", OpenAIChatCompletion(\"gpt-3.5-turbo-0301\", api_key))"
   ]
  },
  {
   "cell_type": "code",
   "execution_count": 2,
   "metadata": {},
   "outputs": [
    {
     "name": "stdout",
     "output_type": "stream",
     "text": [
      "Empathize:  [\n",
      "            { \"sentiment\": \"Negative\", \n",
      "              \"summary\": \"Complaints about the appearance and comfort of the seating\"},\n",
      "            { \"sentiment\": \"Positive\", \n",
      "              \"summary\": \"Praise for the garlic pizza\"},\n",
      "            { \"sentiment\": \"Negative\", \n",
      "              \"summary\": \"Frustration with the turnover of inexperienced servers\"},\n",
      "            { \"sentiment\": \"Neutral\", \n",
      "              \"summary\": \"Questioning the absence of calzones and high prices\"},\n",
      "            { \"sentiment\": \"Negative\", \n",
      "              \"summary\": \"Difficulty with online ordering and cleanliness of seating\"}\n",
      "        ]\n"
     ]
    }
   ],
   "source": [
    "import json\n",
    "\n",
    "pluginsDirectory = \"plugins-sk\"\n",
    "\n",
    "strength_questions = [\"What unique recipes or ingredients does the pizza shop use?\",\"What are the skills and experience of the staff?\",\"Does the pizza shop have a strong reputation in the local area?\",\"Are there any unique features of the shop or its location that attract customers?\", \"Does the pizza shop have a strong reputation in the local area?\", \"Are there any unique features of the shop or its location that attract customers?\"]\n",
    "weakness_questions = [\"What are the operational challenges of the pizza shop? (e.g., slow service, high staff turnover)\",\"Are there financial constraints that limit growth or improvements?\",\"Are there any gaps in the product offering?\",\"Are there customer complaints or negative reviews that need to be addressed?\"]\n",
    "opportunities_questions = [\"Is there potential for new products or services (e.g., catering, delivery)?\",\"Are there under-served customer segments or market areas?\",\"Can new technologies or systems enhance the business operations?\",\"Are there partnerships or local events that can be leveraged for marketing?\"]\n",
    "threats_questions = [\"Who are the major competitors and what are they offering?\",\"Are there potential negative impacts due to changes in the local area (e.g., construction, closure of nearby businesses)?\",\"Are there economic or industry trends that could impact the business negatively (e.g., increased ingredient costs)?\",\"Is there any risk due to changes in regulations or legislation (e.g., health and safety, employment)?\"]\n",
    "\n",
    "strengths = [ \"Unique garlic pizza recipe that wins top awards\",\"Owner trained in Sicily\",\"Strong local reputation\",\"Prime location on university campus\" ]\n",
    "weaknesses = [ \"High staff turnover\",\"Floods in the area damaged the seating areas that are in need of repair\",\"Absence of popular calzones from menu\",\"Negative reviews from younger demographic for lack of hip ingredients\" ]\n",
    "opportunities = [ \"Untapped catering potential\",\"Growing local tech startup community\",\"Unexplored online presence and order capabilities\",\"Upcoming annual food fair\" ]\n",
    "threats = [ \"Competition from cheaper pizza businesses nearby\",\"There's nearby street construction that will impact foot traffic\",\"Rising cost of cheese will increase the cost of pizzas\",\"No immediate local regulatory changes but it's election season\" ]\n",
    "\n",
    "customer_comments = \"\"\"\n",
    "Customer 1: The seats look really raggedy.\n",
    "Customer 2: The garlic pizza is the best on this earth.\n",
    "Customer 3: I've noticed that there's a new server every time I visit, and they're clueless.\n",
    "Customer 4: Why aren't there calzones?\n",
    "Customer 5: I love the garlic pizza and can't get it anywhere else.\n",
    "Customer 6: The garlic pizza is exceptional.\n",
    "Customer 7: I prefer a calzone's portable nature as compared with pizza.\n",
    "Customer 8: Why is the pizza so expensive?\n",
    "Customer 9: There's no way to do online ordering.\n",
    "Customer 10: Why is the seating so uncomfortable and dirty?\n",
    "\"\"\"\n",
    "\n",
    "pluginDT = kernel.import_semantic_skill_from_directory(pluginsDirectory, \"DesignThinking\");\n",
    "my_result = await kernel.run_async(pluginDT[\"Empathize\"], input_str=customer_comments)\n",
    "\n",
    "print(\"Empathize: \", my_result)"
   ]
  },
  {
   "cell_type": "code",
   "execution_count": 3,
   "metadata": {},
   "outputs": [
    {
     "name": "stdout",
     "output_type": "stream",
     "text": [
      "Define:  | Analysis | Definition | Possible Source |\n",
      "| --- | --- | --- |\n",
      "| Complaints about restaurant appearance and cleanliness | Customers express dissatisfaction with the look and hygiene of the restaurant | Lack of attention to cleaning and maintenance by restaurant staff |\n",
      "| Praise for garlic pizza | Customers express satisfaction with the taste and quality of the garlic pizza | High quality ingredients and skilled preparation by kitchen staff |\n",
      "| Frustration with inexperienced servers | Customers express frustration with servers who lack experience or training | Insufficient training or hiring practices by restaurant management |\n",
      "| Questioning absence of calzones and high prices | Customers question the absence of calzones on the menu and express concern about high prices | Menu design and pricing decisions made by restaurant management |\n",
      "| Criticism of uncomfortable seating and lack of online ordering | Customers criticize the uncomfortable seating and lack of online ordering options | Poor seating design and lack of investment in online ordering technology by restaurant management |\n"
     ]
    }
   ],
   "source": [
    "my_result = await kernel.run_async(pluginDT[\"Empathize\"], pluginDT[\"Define\"], input_str = customer_comments)\n",
    "print(\"Define: \", my_result)"
   ]
  },
  {
   "cell_type": "code",
   "execution_count": 4,
   "metadata": {},
   "outputs": [
    {
     "name": "stdout",
     "output_type": "stream",
     "text": [
      "PrototypeWithPaper:  1. Increase frequency of cleaning the seating area: Create a cleaning schedule that specifies the frequency and tasks required for cleaning the seating area. Use a paper calendar or planner to mark the dates and tasks, and assign responsibility to a specific staff member.\n",
      "\n",
      "2. Train servers to be more attentive to customer needs: Develop a training manual or guide that outlines the key skills and behaviors required for attentive customer service. Use a paper checklist or quiz to test the server's knowledge and understanding of the material.\n",
      "\n",
      "3. Offer a discount for customers who bring in their own seating cushion: Create a paper coupon or voucher that customers can present to receive the discount. Include the terms and conditions of the offer, such as the expiration date and any restrictions.\n",
      "\n",
      "4. Add a garlic bread appetizer to the menu: Create a paper menu insert or flyer that highlights the new appetizer. Include a description, price, and photo of the dish.\n",
      "\n",
      "5. Create a loyalty program for repeat customers: Develop a paper loyalty card or stamp that customers can use to track their purchases and earn rewards. Include the details of the program, such as the rewards and redemption process.\n",
      "\n",
      "6. Offer a free drink with every pizza purchase: Create a paper coupon or voucher that customers can present to receive the free drink. Include the terms and conditions of the offer, such as the expiration date and any restrictions.\n",
      "\n",
      "7. Install air fresheners to improve the smell of the restaurant: Create a paper diagram or map that shows the placement of the air fresheners. Include the type and scent of the air freshener, and mark the areas where they are installed.\n",
      "\n",
      "8. Create a social media presence to promote the restaurant: Develop a paper social media plan or calendar that outlines the content and schedule for posting on various platforms. Include the goals and metrics for measuring the success of the social media campaign.\n",
      "\n",
      "9. Host a weekly trivia night to attract customers: Create a paper flyer or poster that promotes the trivia night. Include the date, time, location, and theme of the event, as well as any prizes or incentives for participation.\n",
      "\n",
      "10. Offer a limited-time promotion for a new menu item: Create a paper coupon or voucher that customers can present to receive the promotion. Include the details of the offer, such as the expiration date and any restrictions.\n"
     ]
    }
   ],
   "source": [
    "my_result = await kernel.run_async(pluginDT[\"Empathize\"], pluginDT[\"Define\"], pluginDT[\"Ideate\"], pluginDT[\"PrototypeWithPaper\"], input_str=customer_comments)\n",
    "print(\"PrototypeWithPaper: \", my_result)"
   ]
  },
  {
   "cell_type": "code",
   "execution_count": 6,
   "metadata": {},
   "outputs": [
    {
     "name": "stdout",
     "output_type": "stream",
     "text": [
      "Test result:  As an AI language model, I cannot predict the exact reactions of the 40-year old man. However, based on general human behavior, the possible reactions to this experience could be:\n",
      "\n",
      "1. Positive: The man may feel appreciated and valued by the bar for offering a loyalty program. He may be motivated to visit the bar more often to earn rewards and feel a sense of loyalty towards the establishment.\n",
      "\n",
      "2. Indifferent: The man may not be interested in the loyalty program and may not bother to use the loyalty card. He may not see any significant benefit in earning points or redeeming rewards.\n",
      "\n",
      "3. Negative: The man may feel annoyed or frustrated by the loyalty program, especially if he perceives it as a marketing gimmick. He may feel that the rewards are not worth the effort or that the program is too complicated to understand.\n"
     ]
    }
   ],
   "source": [
    "sk_prompt = \"\"\"\n",
    "A 40-year old man who has just finished his shift at work and comes into the bar. They are in a bad mood.\n",
    "\n",
    "They are given an experience like:\n",
    "{{$input}}\n",
    "\n",
    "Summarize their possible reactions to this experience.\n",
    "\"\"\"\n",
    "test_function = kernel.create_semantic_function(prompt_template=sk_prompt,\n",
    "                                                    description=\"Simulates reaction to an experience.\",\n",
    "                                                    max_tokens=1000,\n",
    "                                                    temperature=0.1,\n",
    "                                                    top_p=0.5)\n",
    "sk_input=\"\"\"\n",
    "A simple loyalty card that includes details such as the rewards for each level of loyalty, how to earn points, and how to redeem rewards is given to every person visiting the bar.\n",
    "\"\"\"\n",
    "\n",
    "test_result = await kernel.run_async(test_function, input_str=sk_input)\n",
    "print(\"Test result: \", test_result)"
   ]
  }
 ],
 "metadata": {
  "kernelspec": {
   "display_name": "sk",
   "language": "python",
   "name": "python3"
  },
  "language_info": {
   "codemirror_mode": {
    "name": "ipython",
    "version": 3
   },
   "file_extension": ".py",
   "mimetype": "text/x-python",
   "name": "python",
   "nbconvert_exporter": "python",
   "pygments_lexer": "ipython3",
   "version": "3.10.13"
  }
 },
 "nbformat": 4,
 "nbformat_minor": 2
}
